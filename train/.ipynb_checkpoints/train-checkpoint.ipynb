{
 "cells": [
  {
   "cell_type": "markdown",
   "id": "e645b4e0-ad44-4c1c-a232-89dd9fa51e86",
   "metadata": {},
   "source": [
    "# Training MNIST Model\n",
    "\n",
    "The goal of this is to create a larger-than-necessary model for classifying handwritten MNIST digits. After training, the model will be serialized in a binary format to later be run using **raw** CUDA and OpenCL."
   ]
  },
  {
   "cell_type": "code",
   "execution_count": 1,
   "id": "e3a2fc0d-3c5e-481b-a770-72277c7ae690",
   "metadata": {},
   "outputs": [],
   "source": [
    "# required imports\n",
    "import torch\n",
    "import torch.nn as nn\n",
    "import torch.optim as optim\n",
    "from torchvision import datasets, transforms\n",
    "from torch.utils.data import DataLoader"
   ]
  },
  {
   "cell_type": "code",
   "execution_count": 3,
   "id": "d5f71348-e312-49ad-a1d4-ae6a65d8d488",
   "metadata": {},
   "outputs": [],
   "source": [
    "# Define the neural network model\n",
    "class SimpleNN(nn.Module):\n",
    "    def __init__(self):\n",
    "        super(SimpleNN, self).__init__()\n",
    "        self.fc1 = nn.Linear(28 * 28, 128)\n",
    "        self.fc2 = nn.Linear(128, 64)\n",
    "        self.fc3 = nn.Linear(64, 10)\n",
    "    \n",
    "    def forward(self, x):\n",
    "        x = x.view(-1, 28 * 28)\n",
    "        x = torch.relu(self.fc1(x))\n",
    "        x = torch.relu(self.fc2(x))\n",
    "        x = self.fc3(x)\n",
    "        return x\n",
    "\n",
    "model = SimpleNN()"
   ]
  },
  {
   "cell_type": "code",
   "execution_count": 4,
   "id": "2648fb4b-577a-49aa-b5a2-a810432ffa59",
   "metadata": {},
   "outputs": [],
   "source": [
    "# Hyperparameters\n",
    "batch_size = 64\n",
    "learning_rate = 0.001\n",
    "epochs = 5\n",
    "criterion = nn.CrossEntropyLoss()\n",
    "optimizer = optim.Adam(model.parameters(), lr=learning_rate)"
   ]
  },
  {
   "cell_type": "code",
   "execution_count": 5,
   "id": "28e04afe-09c4-475f-9d51-368accbaa420",
   "metadata": {},
   "outputs": [],
   "source": [
    "# data loading\n",
    "transform = transforms.Compose([transforms.ToTensor(), transforms.Normalize((0.5,), (0.5,))])\n",
    "\n",
    "# Datasets and DataLoaders\n",
    "train_dataset = datasets.MNIST(root='./data', train=True, download=True, transform=transform)\n",
    "test_dataset = datasets.MNIST(root='./data', train=False, download=True, transform=transform)\n",
    "train_loader = DataLoader(train_dataset, batch_size=batch_size, shuffle=True)\n",
    "test_loader = DataLoader(test_dataset, batch_size=batch_size, shuffle=False)"
   ]
  },
  {
   "cell_type": "code",
   "execution_count": 6,
   "id": "c5995ed6-2f16-447b-bbf0-0ff2ca93c7f6",
   "metadata": {},
   "outputs": [
    {
     "name": "stdout",
     "output_type": "stream",
     "text": [
      "Epoch 1/5, Loss: 0.40368404399865726\n",
      "Epoch 2/5, Loss: 0.18858558579342072\n",
      "Epoch 3/5, Loss: 0.14294734874716414\n",
      "Epoch 4/5, Loss: 0.11247551651882019\n",
      "Epoch 5/5, Loss: 0.09557700465703363\n"
     ]
    }
   ],
   "source": [
    "# training the model\n",
    "model.train()\n",
    "for epoch in range(epochs):\n",
    "    running_loss = 0.0\n",
    "    for images, labels in train_loader:\n",
    "        optimizer.zero_grad()\n",
    "        outputs = model(images)\n",
    "        loss = criterion(outputs, labels)\n",
    "        loss.backward()\n",
    "        optimizer.step()\n",
    "        running_loss += loss.item()\n",
    "    print(f'Epoch {epoch+1}/{epochs}, Loss: {running_loss/len(train_loader)}')"
   ]
  },
  {
   "cell_type": "code",
   "execution_count": 7,
   "id": "d9c5dd22-eee0-4fb9-adee-2fa21b99a74c",
   "metadata": {},
   "outputs": [
    {
     "name": "stdout",
     "output_type": "stream",
     "text": [
      "Accuracy of the model on the test images: 97.01%\n"
     ]
    }
   ],
   "source": [
    "model.eval()\n",
    "correct = 0\n",
    "total = 0\n",
    "with torch.no_grad():\n",
    "    for images, labels in test_loader:\n",
    "        outputs = model(images)\n",
    "        _, predicted = torch.max(outputs.data, 1)\n",
    "        total += labels.size(0)\n",
    "        correct += (predicted == labels).sum().item()\n",
    "print(f'Accuracy of the model on the test images: {100 * correct / total}%')"
   ]
  },
  {
   "cell_type": "code",
   "execution_count": 18,
   "id": "bed00fa5-08ce-49fa-ae53-3633d7f6b8ce",
   "metadata": {},
   "outputs": [
    {
     "data": {
      "text/plain": [
       "0"
      ]
     },
     "execution_count": 18,
     "metadata": {},
     "output_type": "execute_result"
    }
   ],
   "source": [
    "# rather sloppy section to save model weights in a binary format\n",
    "# somewhat difficult for some reason\n",
    "\n",
    "import glob\n",
    "import os\n",
    "\n",
    "os.system('rm *.bin')"
   ]
  },
  {
   "cell_type": "code",
   "execution_count": 19,
   "id": "ac031869-3462-4dd0-8ff4-1fc18e30c504",
   "metadata": {},
   "outputs": [],
   "source": [
    "# checking the distribution of weights\n",
    "\n",
    "# this comes after seeing the bill daily talk where weights are: normally distributed **before** pruning and non-normally distributed after pruning\n",
    "i = 0\n",
    "for layer in model.children():\n",
    "    if isinstance(layer, nn.Linear):\n",
    "        state = layer.state_dict()\n",
    "        state['weight'].flatten().data.cpu().numpy().tofile(f'weights{i}.bin')\n",
    "        state['bias'].flatten().data.cpu().numpy().tofile(f'bias{i}.bin')\n",
    "        i += 1"
   ]
  },
  {
   "cell_type": "code",
   "execution_count": 20,
   "id": "d3184cb3-9ba7-47cf-848b-c00b29f1735e",
   "metadata": {},
   "outputs": [],
   "source": [
    "with open('model', 'wb') as f:\n",
    "    for file in glob.glob('*.bin'):\n",
    "        with open(file, 'rb') as f2:\n",
    "            f.write(f2.read())\n",
    "\n",
    "os.system('rm *.bin')"
   ]
  }
 ],
 "metadata": {
  "kernelspec": {
   "display_name": "Python 3 (ipykernel)",
   "language": "python",
   "name": "python3"
  },
  "language_info": {
   "codemirror_mode": {
    "name": "ipython",
    "version": 3
   },
   "file_extension": ".py",
   "mimetype": "text/x-python",
   "name": "python",
   "nbconvert_exporter": "python",
   "pygments_lexer": "ipython3",
   "version": "3.10.12"
  }
 },
 "nbformat": 4,
 "nbformat_minor": 5
}
