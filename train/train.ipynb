{
 "cells": [
  {
   "cell_type": "markdown",
   "id": "e645b4e0-ad44-4c1c-a232-89dd9fa51e86",
   "metadata": {},
   "source": [
    "# Training MNIST Model\n",
    "\n",
    "The goal of this is to create a larger-than-necessary model for classifying handwritten MNIST digits. After training, the model will be serialized in a binary format to later be run using **raw** CUDA and OpenCL."
   ]
  },
  {
   "cell_type": "code",
   "execution_count": 1,
   "id": "e3a2fc0d-3c5e-481b-a770-72277c7ae690",
   "metadata": {
    "execution": {
     "iopub.execute_input": "2024-06-06T19:34:22.972563Z",
     "iopub.status.busy": "2024-06-06T19:34:22.972373Z",
     "iopub.status.idle": "2024-06-06T19:34:24.320659Z",
     "shell.execute_reply": "2024-06-06T19:34:24.320160Z"
    }
   },
   "outputs": [],
   "source": [
    "# required imports\n",
    "import torch\n",
    "import torch.nn as nn\n",
    "import torch.optim as optim\n",
    "from torchvision import datasets, transforms\n",
    "from torch.utils.data import DataLoader"
   ]
  },
  {
   "cell_type": "code",
   "execution_count": 2,
   "id": "d5f71348-e312-49ad-a1d4-ae6a65d8d488",
   "metadata": {
    "execution": {
     "iopub.execute_input": "2024-06-06T19:34:24.322694Z",
     "iopub.status.busy": "2024-06-06T19:34:24.322524Z",
     "iopub.status.idle": "2024-06-06T19:34:24.326602Z",
     "shell.execute_reply": "2024-06-06T19:34:24.326139Z"
    }
   },
   "outputs": [],
   "source": [
    "# Define the neural network model\n",
    "class SimpleNN(nn.Module):\n",
    "    def __init__(self):\n",
    "        super(SimpleNN, self).__init__()\n",
    "        self.fc1 = nn.Linear(28 * 28, 128)\n",
    "        self.fc2 = nn.Linear(128, 64)\n",
    "        self.fc3 = nn.Linear(64, 10) # 0 - 9 digits\n",
    "    \n",
    "    def forward(self, x):\n",
    "        x = x.view(-1, 28 * 28)\n",
    "        x = torch.relu(self.fc1(x))\n",
    "        x = torch.relu(self.fc2(x))\n",
    "        x = self.fc3(x)\n",
    "        return x\n",
    "\n",
    "model = SimpleNN()"
   ]
  },
  {
   "cell_type": "code",
   "execution_count": 3,
   "id": "2648fb4b-577a-49aa-b5a2-a810432ffa59",
   "metadata": {
    "execution": {
     "iopub.execute_input": "2024-06-06T19:34:24.328247Z",
     "iopub.status.busy": "2024-06-06T19:34:24.328124Z",
     "iopub.status.idle": "2024-06-06T19:34:24.330940Z",
     "shell.execute_reply": "2024-06-06T19:34:24.330625Z"
    }
   },
   "outputs": [],
   "source": [
    "# Hyperparameters\n",
    "batch_size = 64\n",
    "learning_rate = 0.001\n",
    "epochs = 5\n",
    "criterion = nn.CrossEntropyLoss()\n",
    "optimizer = optim.Adam(model.parameters(), lr=learning_rate)"
   ]
  },
  {
   "cell_type": "code",
   "execution_count": 4,
   "id": "28e04afe-09c4-475f-9d51-368accbaa420",
   "metadata": {
    "execution": {
     "iopub.execute_input": "2024-06-06T19:34:24.332728Z",
     "iopub.status.busy": "2024-06-06T19:34:24.332340Z",
     "iopub.status.idle": "2024-06-06T19:34:27.302074Z",
     "shell.execute_reply": "2024-06-06T19:34:27.301607Z"
    }
   },
   "outputs": [
    {
     "name": "stdout",
     "output_type": "stream",
     "text": [
      "Downloading http://yann.lecun.com/exdb/mnist/train-images-idx3-ubyte.gz\n",
      "Failed to download (trying next):\n",
      "HTTP Error 403: Forbidden\n",
      "\n",
      "Downloading https://ossci-datasets.s3.amazonaws.com/mnist/train-images-idx3-ubyte.gz\n"
     ]
    },
    {
     "name": "stdout",
     "output_type": "stream",
     "text": [
      "Downloading https://ossci-datasets.s3.amazonaws.com/mnist/train-images-idx3-ubyte.gz to ./data/MNIST/raw/train-images-idx3-ubyte.gz\n"
     ]
    },
    {
     "name": "stderr",
     "output_type": "stream",
     "text": [
      "\r\n",
      "  0%|                                                                                                                                                                                                                                                                                | 0/9912422 [00:00<?, ?it/s]"
     ]
    },
    {
     "name": "stderr",
     "output_type": "stream",
     "text": [
      "\r\n",
      "  2%|████▏                                                                                                                                                                                                                                                         | 163840/9912422 [00:00<00:06, 1552624.63it/s]"
     ]
    },
    {
     "name": "stderr",
     "output_type": "stream",
     "text": [
      "\r\n",
      " 14%|██████████████████████████████████▎                                                                                                                                                                                                                          | 1343488/9912422 [00:00<00:01, 7251945.97it/s]"
     ]
    },
    {
     "name": "stderr",
     "output_type": "stream",
     "text": [
      "\r\n",
      " 40%|███████████████████████████████████████████████████████████████████████████████████████████████████▉                                                                                                                                                        | 3932160/9912422 [00:00<00:00, 13702651.46it/s]"
     ]
    },
    {
     "name": "stderr",
     "output_type": "stream",
     "text": [
      "\r\n",
      " 53%|█████████████████████████████████████████████████████████████████████████████████████████████████████████████████████████████████████▎                                                                                                                      | 5242880/9912422 [00:00<00:00, 12106732.53it/s]"
     ]
    },
    {
     "name": "stderr",
     "output_type": "stream",
     "text": [
      "\r\n",
      " 65%|████████████████████████████████████████████████████████████████████████████████████████████████████████████████████████████████████████████████████████████████████                                                                                        | 6455296/9912422 [00:00<00:00, 11602605.11it/s]"
     ]
    },
    {
     "name": "stderr",
     "output_type": "stream",
     "text": [
      "\r\n",
      " 79%|██████████████████████████████████████████████████████████████████████████████████████████████████████████████████████████████████████████████████████████████████████████████████████████████████████▎                                                     | 7798784/9912422 [00:00<00:00, 11476241.18it/s]"
     ]
    },
    {
     "name": "stderr",
     "output_type": "stream",
     "text": [
      "\r\n",
      " 90%|███████████████████████████████████████████████████████████████████████████████████████████████████████████████████████████████████████████████████████████████████████████████████████████████████████████████████████████████████▍                        | 8945664/9912422 [00:00<00:00, 10957658.28it/s]"
     ]
    },
    {
     "name": "stderr",
     "output_type": "stream",
     "text": [
      "\r\n",
      "100%|████████████████████████████████████████████████████████████████████████████████████████████████████████████████████████████████████████████████████████████████████████████████████████████████████████████████████████████████████████████████████████████| 9912422/9912422 [00:00<00:00, 10807515.21it/s]"
     ]
    },
    {
     "name": "stderr",
     "output_type": "stream",
     "text": [
      "\n"
     ]
    },
    {
     "name": "stdout",
     "output_type": "stream",
     "text": [
      "Extracting ./data/MNIST/raw/train-images-idx3-ubyte.gz to ./data/MNIST/raw\n",
      "\n",
      "Downloading http://yann.lecun.com/exdb/mnist/train-labels-idx1-ubyte.gz\n"
     ]
    },
    {
     "name": "stdout",
     "output_type": "stream",
     "text": [
      "Failed to download (trying next):\n",
      "HTTP Error 403: Forbidden\n",
      "\n",
      "Downloading https://ossci-datasets.s3.amazonaws.com/mnist/train-labels-idx1-ubyte.gz\n",
      "Downloading https://ossci-datasets.s3.amazonaws.com/mnist/train-labels-idx1-ubyte.gz to ./data/MNIST/raw/train-labels-idx1-ubyte.gz\n"
     ]
    },
    {
     "name": "stderr",
     "output_type": "stream",
     "text": [
      "\r\n",
      "  0%|                                                                                                                                                                                                                                                                                  | 0/28881 [00:00<?, ?it/s]"
     ]
    },
    {
     "name": "stderr",
     "output_type": "stream",
     "text": [
      "\r\n",
      "100%|██████████████████████████████████████████████████████████████████████████████████████████████████████████████████████████████████████████████████████████████████████████████████████████████████████████████████████████████████████████████████████████████████| 28881/28881 [00:00<00:00, 878622.57it/s]"
     ]
    },
    {
     "name": "stderr",
     "output_type": "stream",
     "text": [
      "\n"
     ]
    },
    {
     "name": "stdout",
     "output_type": "stream",
     "text": [
      "Extracting ./data/MNIST/raw/train-labels-idx1-ubyte.gz to ./data/MNIST/raw\n",
      "\n",
      "Downloading http://yann.lecun.com/exdb/mnist/t10k-images-idx3-ubyte.gz\n",
      "Failed to download (trying next):\n",
      "HTTP Error 403: Forbidden\n",
      "\n",
      "Downloading https://ossci-datasets.s3.amazonaws.com/mnist/t10k-images-idx3-ubyte.gz\n"
     ]
    },
    {
     "name": "stdout",
     "output_type": "stream",
     "text": [
      "Downloading https://ossci-datasets.s3.amazonaws.com/mnist/t10k-images-idx3-ubyte.gz to ./data/MNIST/raw/t10k-images-idx3-ubyte.gz\n"
     ]
    },
    {
     "name": "stderr",
     "output_type": "stream",
     "text": [
      "\r\n",
      "  0%|                                                                                                                                                                                                                                                                                | 0/1648877 [00:00<?, ?it/s]"
     ]
    },
    {
     "name": "stderr",
     "output_type": "stream",
     "text": [
      "\r\n",
      " 10%|█████████████████████████▏                                                                                                                                                                                                                                    | 163840/1648877 [00:00<00:01, 1471584.77it/s]"
     ]
    },
    {
     "name": "stderr",
     "output_type": "stream",
     "text": [
      "\r\n",
      " 50%|██████████████████████████████████████████████████████████████████████████████████████████████████████████████████████████████▏                                                                                                                               | 819200/1648877 [00:00<00:00, 4124527.77it/s]"
     ]
    },
    {
     "name": "stderr",
     "output_type": "stream",
     "text": [
      "\r\n",
      " 97%|██████████████████████████████████████████████████████████████████████████████████████████████████████████████████████████████████████████████████████████████████████████████████████████████████████████████████████████████████████████████████████▎      | 1605632/1648877 [00:00<00:00, 5659236.64it/s]"
     ]
    },
    {
     "name": "stderr",
     "output_type": "stream",
     "text": [
      "\r\n",
      "100%|█████████████████████████████████████████████████████████████████████████████████████████████████████████████████████████████████████████████████████████████████████████████████████████████████████████████████████████████████████████████████████████████| 1648877/1648877 [00:00<00:00, 5050499.51it/s]"
     ]
    },
    {
     "name": "stderr",
     "output_type": "stream",
     "text": [
      "\n"
     ]
    },
    {
     "name": "stdout",
     "output_type": "stream",
     "text": [
      "Extracting ./data/MNIST/raw/t10k-images-idx3-ubyte.gz to ./data/MNIST/raw\n",
      "\n",
      "Downloading http://yann.lecun.com/exdb/mnist/t10k-labels-idx1-ubyte.gz\n",
      "Failed to download (trying next):\n",
      "HTTP Error 403: Forbidden\n",
      "\n",
      "Downloading https://ossci-datasets.s3.amazonaws.com/mnist/t10k-labels-idx1-ubyte.gz\n"
     ]
    },
    {
     "name": "stdout",
     "output_type": "stream",
     "text": [
      "Downloading https://ossci-datasets.s3.amazonaws.com/mnist/t10k-labels-idx1-ubyte.gz to ./data/MNIST/raw/t10k-labels-idx1-ubyte.gz\n"
     ]
    },
    {
     "name": "stderr",
     "output_type": "stream",
     "text": [
      "\r\n",
      "  0%|                                                                                                                                                                                                                                                                                   | 0/4542 [00:00<?, ?it/s]"
     ]
    },
    {
     "name": "stderr",
     "output_type": "stream",
     "text": [
      "\r\n",
      "100%|██████████████████████████████████████████████████████████████████████████████████████████████████████████████████████████████████████████████████████████████████████████████████████████████████████████████████████████████████████████████████████████████████| 4542/4542 [00:00<00:00, 12064932.72it/s]"
     ]
    },
    {
     "name": "stdout",
     "output_type": "stream",
     "text": [
      "Extracting ./data/MNIST/raw/t10k-labels-idx1-ubyte.gz to ./data/MNIST/raw\n",
      "\n"
     ]
    },
    {
     "name": "stderr",
     "output_type": "stream",
     "text": [
      "\n"
     ]
    }
   ],
   "source": [
    "# data loading\n",
    "transform = transforms.Compose([transforms.ToTensor(), transforms.Normalize((0.5,), (0.5,))])\n",
    "\n",
    "# Datasets and DataLoaders\n",
    "train_dataset = datasets.MNIST(root='./data', train=True, download=True, transform=transform)\n",
    "test_dataset = datasets.MNIST(root='./data', train=False, download=True, transform=transform)\n",
    "train_loader = DataLoader(train_dataset, batch_size=batch_size, shuffle=True)\n",
    "test_loader = DataLoader(test_dataset, batch_size=batch_size, shuffle=False)"
   ]
  },
  {
   "cell_type": "code",
   "execution_count": 5,
   "id": "c5995ed6-2f16-447b-bbf0-0ff2ca93c7f6",
   "metadata": {
    "execution": {
     "iopub.execute_input": "2024-06-06T19:34:27.303968Z",
     "iopub.status.busy": "2024-06-06T19:34:27.303647Z",
     "iopub.status.idle": "2024-06-06T19:35:16.804753Z",
     "shell.execute_reply": "2024-06-06T19:35:16.804244Z"
    }
   },
   "outputs": [
    {
     "name": "stdout",
     "output_type": "stream",
     "text": [
      "Epoch 1/5, Loss: 0.3925219791720925\n"
     ]
    },
    {
     "name": "stdout",
     "output_type": "stream",
     "text": [
      "Epoch 2/5, Loss: 0.1883651724359247\n"
     ]
    },
    {
     "name": "stdout",
     "output_type": "stream",
     "text": [
      "Epoch 3/5, Loss: 0.1337862066648551\n"
     ]
    },
    {
     "name": "stdout",
     "output_type": "stream",
     "text": [
      "Epoch 4/5, Loss: 0.11023652851124847\n"
     ]
    },
    {
     "name": "stdout",
     "output_type": "stream",
     "text": [
      "Epoch 5/5, Loss: 0.09296311692087485\n"
     ]
    }
   ],
   "source": [
    "# training the model\n",
    "model.train()\n",
    "for epoch in range(epochs):\n",
    "    running_loss = 0.0\n",
    "    for images, labels in train_loader:\n",
    "        optimizer.zero_grad()\n",
    "        outputs = model(images)\n",
    "        loss = criterion(outputs, labels)\n",
    "        loss.backward()\n",
    "        optimizer.step()\n",
    "        running_loss += loss.item()\n",
    "    print(f'Epoch {epoch+1}/{epochs}, Loss: {running_loss/len(train_loader)}')"
   ]
  },
  {
   "cell_type": "code",
   "execution_count": 6,
   "id": "d9c5dd22-eee0-4fb9-adee-2fa21b99a74c",
   "metadata": {
    "execution": {
     "iopub.execute_input": "2024-06-06T19:35:16.806774Z",
     "iopub.status.busy": "2024-06-06T19:35:16.806586Z",
     "iopub.status.idle": "2024-06-06T19:35:18.375497Z",
     "shell.execute_reply": "2024-06-06T19:35:18.374997Z"
    }
   },
   "outputs": [
    {
     "name": "stdout",
     "output_type": "stream",
     "text": [
      "Accuracy of the model on the test images: 96.21%\n"
     ]
    }
   ],
   "source": [
    "model.eval()\n",
    "correct = 0\n",
    "total = 0\n",
    "with torch.no_grad():\n",
    "    for images, labels in test_loader:\n",
    "        outputs = model(images)\n",
    "        _, predicted = torch.max(outputs.data, 1)\n",
    "        total += labels.size(0)\n",
    "        correct += (predicted == labels).sum().item()\n",
    "print(f'Accuracy of the model on the test images: {100 * correct / total}%')"
   ]
  },
  {
   "cell_type": "code",
   "execution_count": 7,
   "id": "bed00fa5-08ce-49fa-ae53-3633d7f6b8ce",
   "metadata": {
    "execution": {
     "iopub.execute_input": "2024-06-06T19:35:18.377666Z",
     "iopub.status.busy": "2024-06-06T19:35:18.377461Z",
     "iopub.status.idle": "2024-06-06T19:35:18.385028Z",
     "shell.execute_reply": "2024-06-06T19:35:18.384629Z"
    }
   },
   "outputs": [
    {
     "name": "stderr",
     "output_type": "stream",
     "text": [
      "rm: cannot remove '*.bin': No such file or directory\n"
     ]
    },
    {
     "data": {
      "text/plain": [
       "256"
      ]
     },
     "execution_count": 7,
     "metadata": {},
     "output_type": "execute_result"
    }
   ],
   "source": [
    "# rather sloppy section to save model weights in a binary format\n",
    "# somewhat difficult for some reason\n",
    "\n",
    "import glob\n",
    "import os\n",
    "\n",
    "os.system('rm *.bin')"
   ]
  },
  {
   "cell_type": "code",
   "execution_count": 8,
   "id": "ac031869-3462-4dd0-8ff4-1fc18e30c504",
   "metadata": {
    "execution": {
     "iopub.execute_input": "2024-06-06T19:35:18.387056Z",
     "iopub.status.busy": "2024-06-06T19:35:18.386739Z",
     "iopub.status.idle": "2024-06-06T19:35:18.390803Z",
     "shell.execute_reply": "2024-06-06T19:35:18.390354Z"
    }
   },
   "outputs": [],
   "source": [
    "# checking the distribution of weights\n",
    "\n",
    "# this comes after seeing the bill daily talk where weights are: normally distributed **before** pruning and non-normally distributed after pruning\n",
    "i = 0\n",
    "for layer in model.children():\n",
    "    if isinstance(layer, nn.Linear):\n",
    "        state = layer.state_dict()\n",
    "        state['weight'].flatten().data.cpu().numpy().tofile(f'weights{i}.bin')\n",
    "        state['bias'].flatten().data.cpu().numpy().tofile(f'bias{i}.bin')\n",
    "        i += 1"
   ]
  },
  {
   "cell_type": "code",
   "execution_count": 9,
   "id": "d3184cb3-9ba7-47cf-848b-c00b29f1735e",
   "metadata": {
    "execution": {
     "iopub.execute_input": "2024-06-06T19:35:18.393304Z",
     "iopub.status.busy": "2024-06-06T19:35:18.392585Z",
     "iopub.status.idle": "2024-06-06T19:35:18.400971Z",
     "shell.execute_reply": "2024-06-06T19:35:18.400526Z"
    }
   },
   "outputs": [
    {
     "data": {
      "text/plain": [
       "0"
      ]
     },
     "execution_count": 9,
     "metadata": {},
     "output_type": "execute_result"
    }
   ],
   "source": [
    "with open('model', 'wb') as f:\n",
    "    for file in glob.glob('*.bin'):\n",
    "        with open(file, 'rb') as f2:\n",
    "            f.write(f2.read())\n",
    "\n",
    "os.system('rm *.bin')"
   ]
  }
 ],
 "metadata": {
  "kernelspec": {
   "display_name": "Python 3 (ipykernel)",
   "language": "python",
   "name": "python3"
  },
  "language_info": {
   "codemirror_mode": {
    "name": "ipython",
    "version": 3
   },
   "file_extension": ".py",
   "mimetype": "text/x-python",
   "name": "python",
   "nbconvert_exporter": "python",
   "pygments_lexer": "ipython3",
   "version": "3.10.12"
  }
 },
 "nbformat": 4,
 "nbformat_minor": 5
}
